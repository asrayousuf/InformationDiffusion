{
 "cells": [
  {
   "cell_type": "code",
   "execution_count": 1,
   "metadata": {},
   "outputs": [],
   "source": [
    "import networkx as nx\n",
    "import matplotlib as plt\n",
    "import numpy as np\n",
    "import copy"
   ]
  },
  {
   "cell_type": "code",
   "execution_count": 4,
   "metadata": {},
   "outputs": [],
   "source": [
    "# for testing the random graph generating function\n",
    "g_ws = nx.watts_strogatz_graph(n = 4000, k = 57,p=0.5)\n",
    "g_bs = nx.barabasi_albert_graph(n = 4000, m = 6)"
   ]
  },
  {
   "cell_type": "code",
   "execution_count": 5,
   "metadata": {},
   "outputs": [],
   "source": [
    "# States\n",
    "HEALTH = 0\n",
    "TRANSMISSION = 1\n",
    "IMMUNE = 2 # immune & inactive\n",
    "\n",
    "# parameter\n",
    "p1 = 0.5 # health to transmission\n",
    "p2 = 0.55 # immune to transmission\n",
    "# a = 0.45 # user growth rate per month\n",
    "# b = 0.3 # inactive rate per month\n",
    "\n",
    "class social_network():\n",
    "    def __init__(self,  alpha=0.1,beta=0.3, n = 4000,name = \"ws\",):\n",
    "        if name == \"ws\":\n",
    "            self.graph = nx.watts_strogatz_graph(n, k = 57, p=0.5)\n",
    "        elif name == \"ba\":\n",
    "            self.graph = nx.barabasi_albert_graph(n, m = 6)\n",
    "        \n",
    "        \n",
    "        init_dist=np.random.choice([TRANSMISSION,IMMUNE,HEALTH],\n",
    "                         size = n,p=(alpha,beta,1-alpha-beta))\n",
    "        \n",
    "        # list of nodes group by status\n",
    "        self.hea_list = np.where(init_dist==HEALTH)[0].tolist()\n",
    "        self.trans_list = np.where(init_dist==TRANSMISSION)[0].tolist()\n",
    "        self.im_list = np.where(init_dist==IMMUNE)[0].tolist()\n",
    "        \n",
    "        for i in range(0,n):\n",
    "            self.graph.node[i]['status'] = init_dist[i]"
   ]
  },
  {
   "cell_type": "code",
   "execution_count": 6,
   "metadata": {},
   "outputs": [],
   "source": [
    "# initializing a social network\n",
    "G=social_network(name =\"ba\")\n",
    "g = G.graph\n",
    "trans_list = G.trans_list\n",
    "hea_list = G.hea_list\n",
    "im_list = G.im_list\n",
    "nodes = g.nodes(data = True)"
   ]
  },
  {
   "cell_type": "code",
   "execution_count": 8,
   "metadata": {},
   "outputs": [],
   "source": [
    "# finish changing the transmision nodes' status\n",
    "for nt in trans_list:\n",
    "\n",
    "    nei_list = np.array(g.neighbors(nt))\n",
    "    nei_sta = np.array([g.node[nei]['status'] \n",
    "                        for nei in nei_list])\n",
    "    # a = copy.deepcopy(nei_sta)\n",
    "\n",
    "    heal_nei = nei_list[np.where(nei_sta == HEALTH)[0]]\n",
    "    spreaded_nei = heal_nei[np.where(np.random.uniform(0,1,(heal_nei.shape[0],)) \n",
    "                              < p1)[0]]\n",
    "\n",
    "    if spreaded_nei.size!=0:    # if spread to nei\n",
    "        G.trans_list.remove(nt)\n",
    "        G.im_list.append(nt)\n",
    "        \n",
    "        g.node[nt]['status'] = IMMUNE\n",
    "        \n",
    "        \n",
    "        \n",
    "        for sn in spreaded_nei:\n",
    "            G.hea_list.remove(sn)\n",
    "            G.trans_list.append(sn)\n",
    "            \n",
    "            \n",
    "            g.node[sn]['status'] = TRANSMISSION"
   ]
  },
  {
   "cell_type": "code",
   "execution_count": null,
   "metadata": {},
   "outputs": [],
   "source": []
  }
 ],
 "metadata": {
  "kernelspec": {
   "display_name": "Python 3",
   "language": "python",
   "name": "python3"
  },
  "language_info": {
   "codemirror_mode": {
    "name": "ipython",
    "version": 3
   },
   "file_extension": ".py",
   "mimetype": "text/x-python",
   "name": "python",
   "nbconvert_exporter": "python",
   "pygments_lexer": "ipython3",
   "version": "3.6.5"
  }
 },
 "nbformat": 4,
 "nbformat_minor": 2
}
