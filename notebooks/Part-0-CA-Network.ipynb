{
 "cells": [
  {
   "cell_type": "markdown",
   "metadata": {},
   "source": [
    "### Part 0: Cellular Automata Model On Network Structure\n"
   ]
  },
  {
   "cell_type": "markdown",
   "metadata": {},
   "source": [
    "Cellular automata is discrete dynamical system in space and time consisting of a set of scattered cellular in analog space. Every state in the time sequence of cellular in every moment, is synchronize updated by cells around on the last time via same effect rules (local rules)."
   ]
  },
  {
   "cell_type": "markdown",
   "metadata": {},
   "source": [
    "In the information diffusion process in social networks, cell of cellular automata can be assumed to be a individual member of the network (node), and cellular space can be assumed as the entire network. Cellular state parameters can be described as the individual characteristic parameters of a member state, cellular automata neighbors represents the range of individual members interaction.\n",
    "\n",
    "For the purpose of modelling information diffusion, we define the following 3 states:\n",
    "\n",
    "Healthy: Person yet to come in contact with the information/ rumour\n",
    "\n",
    "Transmission: Person who believes the rumour\n",
    "\n",
    "Immune: Person who does not believe the rumour but might become a transmission node if contacted by multiple transmission nodes \n"
   ]
  },
  {
   "cell_type": "markdown",
   "metadata": {},
   "source": [
    "import networkx as nx\n",
    "import matplotlib as plt\n",
    "import numpy as np\n",
    "import copy"
   ]
  },
  {
   "cell_type": "code",
   "execution_count": 13,
   "metadata": {},
   "outputs": [],
   "source": [
    "# Generation of random graphs\n",
    "g_ws = nx.watts_strogatz_graph(n = 4000, k = 57,p=0.5) # Watts–Strogatz Graph\n",
    "g_bs = nx.barabasi_albert_graph(n = 4000, m = 6) # Barabási–Albert Graph"
   ]
  },
  {
   "cell_type": "code",
   "execution_count": 14,
   "metadata": {},
   "outputs": [],
   "source": [
    "# States\n",
    "HEALTH = 0\n",
    "TRANSMISSION = 1\n",
    "IMMUNE = 2 # immune & inactive\n",
    "\n",
    "# Parameter\n",
    "p1 = 0.5 # Contact rate between healthy node and the transmission node\n",
    "p2 = 0.55 #  Probability that each immune node will become a transmission node\n",
    "# a = 0.45 # user growth rate per month\n",
    "# b = 0.3 # inactive rate per month\n",
    "\n",
    "class social_network():\n",
    "    def __init__(self,  alpha=0.1,beta=0.3, n = 4000,name = \"ws\",):\n",
    "        if name == \"ws\":\n",
    "            self.graph = nx.watts_strogatz_graph(n, k = 57, p=0.5)\n",
    "        elif name == \"ba\":\n",
    "            self.graph = nx.barabasi_albert_graph(n, m = 6)\n",
    "        \n",
    "        \n",
    "        init_dist=np.random.choice([TRANSMISSION,IMMUNE,HEALTH],\n",
    "                         size = n,p=(alpha,beta,1-alpha-beta))\n",
    "        \n",
    "        # list of nodes group by status\n",
    "        self.healthy_list = np.where(init_dist==HEALTH)[0].tolist()\n",
    "        self.transmission_list = np.where(init_dist==TRANSMISSION)[0].tolist()\n",
    "        self.immmune_list = np.where(init_dist==IMMUNE)[0].tolist()\n",
    "        \n",
    "        for i in range(0,n):\n",
    "            self.graph.node[i]['status'] = init_dist[i]"
   ]
  },
  {
   "cell_type": "code",
   "execution_count": 15,
   "metadata": {},
   "outputs": [],
   "source": [
    "# initializing a social network\n",
    "G = social_network(name =\"ba\")\n",
    "g = G.graph\n",
    "transmission_list = G.transmission_list\n",
    "healthy_list = G.healthy_list\n",
    "immmune_list = G.immmune_list\n",
    "nodes = g.nodes(data = True)"
   ]
  },
  {
   "cell_type": "code",
   "execution_count": 37,
   "metadata": {},
   "outputs": [],
   "source": [
    "# finish changing the transmision nodes' status\n",
    "for nt in transmission_list:\n",
    "\n",
    "    neighbors = np.array(list(g.neighbors(nt)))\n",
    "    neighbors_status = np.array([g.node[neighbor]['status'] \n",
    "                        for neighbor in g.neighbors(nt)])\n",
    "    # a = copy.deepcopy(neighbors_status)\n",
    "\n",
    "    healthy_neighbors = neighbors[np.where(neighbors_status == HEALTH)[0]]\n",
    "    spreaded_neighbors = healthy_neighbors[np.where(np.random.uniform(0,1,(healthy_neighbors.shape[0],)) \n",
    "                              < p1)[0]]\n",
    "\n",
    "    if spreaded_neighbors.size!=0:    # if information has spread to the neighbors of the transmission node\n",
    "        G.transmission_list.remove(nt)\n",
    "        G.immmune_list.append(nt)\n",
    "        \n",
    "        g.node[nt]['status'] = IMMUNE\n",
    "        \n",
    "        for sn in spreaded_neighbors:\n",
    "            G.healthy_list.remove(sn)\n",
    "            G.transmission_list.append(sn)\n",
    "            \n",
    "            g.node[sn]['status'] = TRANSMISSION"
   ]
  },
  {
   "cell_type": "code",
   "execution_count": null,
   "metadata": {},
   "outputs": [],
   "source": []
  }
 ],
 "metadata": {
  "kernelspec": {
   "display_name": "Python 3",
   "language": "python",
   "name": "python3"
  },
  "language_info": {
   "codemirror_mode": {
    "name": "ipython",
    "version": 3
   },
   "file_extension": ".py",
   "mimetype": "text/x-python",
   "name": "python",
   "nbconvert_exporter": "python",
   "pygments_lexer": "ipython3",
   "version": "3.6.6"
  }
 },
 "nbformat": 4,
 "nbformat_minor": 2
}
