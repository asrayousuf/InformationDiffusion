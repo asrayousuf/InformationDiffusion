{
 "cells": [
  {
   "cell_type": "markdown",
   "metadata": {},
   "source": [
    "## Tutorial: Modelling Information & Rumour Diffusion in Online Social Networks\n",
    "\n",
    "\n",
    "The most retweeted tweet in the world has 5.19 Million retweets. The most liked photo on instagram has 52.2 million likes. The reach and expanse of social networks makes it possible for a piece of information, be it authentic or fake, to travel across the globe and reach millions of people in a matter of seconds. This leads us to the question- what makes a post go viral in an online social network platform? Why are some posts ignored while some make headlines? Starting with these questions, we are modelling information diffusion and rumour propagation in online social networks. \n",
    "\n",
    "\n",
    "Through this tutorial, we develope four-part ways to model and analyse the information spread process in online social networks. To validate our models, we run simulations on randomly generated graphs as well real world social networks. Further, we are also looking at how the network structure effects the process of information diffusion. A brief description of the sections are as follows:\n",
    "\n",
    "**[Part 0 - CA Model](https://github.gatech.edu/ayousuf6/CSE6730-InformationDiffusion/blob/master/notebooks/Part-0-CA-Network.ipynb)**: This part models the spread of information and rumours in a network graph through the S-I-R model- cellular automata (CA) model. For simulating the results, we use a random Barabasi Albert social network graph.\n",
    "\n",
    "**[Part 1 - Network Comparison](https://github.gatech.edu/ayousuf6/CSE6730-InformationDiffusion/blob/master/notebooks/Part-1-NetworkComparison.ipynb)**: In this part, we generate different social networks and study its structure characteristics. These networks are then used to study the CA model and the variations in results are analysed and discussed.\n",
    "\n",
    "**[Part 2 - ODE Model](https://github.gatech.edu/ayousuf6/CSE6730-InformationDiffusion/blob/master/notebooks/Part-2-ODE-Model.ipynb)**: Given the dynamic nature of the population of real social networks,  we take into account the addition of new users and the creation of inactive users over time. For this, we have built a continuous time model considering population dynamics of a logistic equation based on the SIR model. Further, we simulate the results on real world Facebook dataset. \n",
    "\n",
    "**[Part 3 - Network Model with Echo Chambers](https://github.gatech.edu/ayousuf6/CSE6730-InformationDiffusion/blob/master/notebooks/Part-3-EchoChamberEffect.ipynb)**: In this section, we have created a network model to study the dynamics of the network structure and the impact it has on the spread of information/ rumours.  Specifically, we study the effect that online echo chambers have on the virality of an information. Online echo chambers are modelled as a set of users characterized by opinion and network polarization, i.e. they are clusters of like-minded users. The results are simulated on random Erdős–Rényi graphs to study how virality of an information is impacted with varying parameters and network structures.  \n",
    "\n"
   ]
  },
  {
   "cell_type": "markdown",
   "metadata": {},
   "source": [
    "### Part 0: Cellular Automata Model On Network Structure\n"
   ]
  },
  {
   "cell_type": "markdown",
   "metadata": {},
   "source": [
    "Cellular automata(CA) is a discrete dynamical system in space and time consisting of a set of scattered cells in analog space. The state of each cell evolves through a number of discrete time steps according to a set of rules based on the states of neighboring cells. In this project, we apply the CA model rules with a network structure to simulate the information spread trend in a online social networks."
   ]
  },
  {
   "cell_type": "markdown",
   "metadata": {},
   "source": [
    "### The information spread in the network to be modeled and simulated\n",
    "In the information diffusion process in social networks, cell of cellular automata can be assumed to be a individual member of the network (node), and the cellular space is analogous to the entire network. Cellular state parameters can be described as the individual characteristic parameters of a member state, while cellular automata neighbors represents the range of individual members interaction i.e. friends/ followers of a person.\n",
    "\n",
    "**Exercise 1:**  Develop a SIR based information transmission model based on the following states and rules of information spread defined:\n",
    "\n",
    "- Health node (S): Users who have not received the piece of information and can  readily transfer the information.\n",
    "\n",
    "- Transmission node (I): Users who have received the information and transfer it to others. The transmission probability $p_1=0.5$. If a transmission node has already spread the information, then it would become an immune node which means the probability of this node changing to an immune node is 1.\n",
    "\n",
    "- Immune node (R): Users who will not spread information to others, but may become a transmission node if it is repeatedly contacted by other transmission nodes. The probability $p_2$ that the immune node becomes a transmission node  depends on its neighbors  ($p_2$= the total number of transmission neighbor nodes/ the total number of neighbors). \n"
   ]
  },
  {
   "cell_type": "code",
   "execution_count": 1,
   "metadata": {},
   "outputs": [],
   "source": [
    "import networkx as nx\n",
    "import matplotlib.pyplot as plt\n",
    "import numpy as np\n",
    "import copy"
   ]
  },
  {
   "cell_type": "code",
   "execution_count": 2,
   "metadata": {},
   "outputs": [],
   "source": [
    "# States\n",
    "HEALTH = 0\n",
    "TRANSMISSION = 1\n",
    "IMMUNE = 2 # immune & inactive\n",
    "\n",
    "class social_network():\n",
    "    def __init__(self,  alpha=0.1,beta=0.3, n = 4039,name = \"ws\",k = 57, p=0.5,m = 6):\n",
    "        # Generation of random graphs\n",
    "        if name == \"ws\":# Watts–Strogatz Graph\n",
    "            self.name = \"Watts–Strogatz\"\n",
    "            self.graph = nx.watts_strogatz_graph(n, k = 57, p=0.5)\n",
    "        elif name == \"ba\":# Barabási–Albert Graph\n",
    "            self.name = \"Barabási–Albert\"\n",
    "            self.graph = nx.barabasi_albert_graph(n, m = 6)\n",
    "        elif name == \"real\": # The social network data from facebook\n",
    "            self.name = \"Facebook\"\n",
    "            self.graph,n = self.read_graph(filename = \"../data/facebook_combined.txt\")\n",
    "            \n",
    "        init_dist=np.random.choice([TRANSMISSION,IMMUNE,HEALTH],\n",
    "                         size = n,p=(alpha,beta,1-alpha-beta))\n",
    "        # list of nodes group by status\n",
    "        self.healthy_list = np.where(init_dist==HEALTH)[0].tolist()\n",
    "        self.transmission_list = np.where(init_dist==TRANSMISSION)[0].tolist()\n",
    "        self.immmune_list = np.where(init_dist==IMMUNE)[0].tolist()\n",
    "        for i in range(0,n):\n",
    "            self.graph.node[i]['status'] = init_dist[i]\n",
    "    \n",
    "    def read_graph(self,filename):\n",
    "        # reading real social network data into a Graph object\n",
    "        G = nx.Graph()\n",
    "        lines = [line.rstrip('\\n') for line in open(filename, 'r')] \n",
    "        edge_list=list(map(lambda edge: [int(edge.split()[0]), int(edge.split()[1])], lines))\n",
    "        G.add_edges_from(edge_list)\n",
    "        n = G.number_of_nodes()\n",
    "        return G,n\n",
    "            \n",
    "            \n",
    "    def recording_changing_immune(self):\n",
    "        # recording the immune node that will be changed to transmission node\n",
    "        \n",
    "        g = self.graph\n",
    "        im_to_be_changed_to_trans = []\n",
    "        for ni in self.immmune_list:\n",
    "            immune_neighbors = np.array(list(g.neighbors(ni)))\n",
    "            immune_neighbors_status = np.array([g.node[nei]['status'] \n",
    "                                                for nei in list(g.neighbors(ni))])\n",
    "            # computing the probability for one immune node becoming transmission node\n",
    "            p2 = len(immune_neighbors[np.where(\n",
    "                immune_neighbors_status == TRANSMISSION)[0]]) / len(immune_neighbors)\n",
    "            if np.random.uniform(0,1) < p2*0.1:\n",
    "                im_to_be_changed_to_trans.append(ni)\n",
    "        \n",
    "        return im_to_be_changed_to_trans\n",
    "    \n",
    "    \n",
    "    def changing_transmission_and_healthy(self, p1):\n",
    "        # finish the (transmission ==> immune) & (healthy ==> transmission)\n",
    "        # p1: the probability for transmission node affecting its neighbors\n",
    "        g = self.graph\n",
    "        for nt in self.transmission_list:\n",
    "            neighbors = np.array(list(g.neighbors(nt)))\n",
    "            neighbors_status = np.array([g.node[nei]['status'] \n",
    "                                         for nei in list(g.neighbors(nt))])\n",
    "            healthy_neighbors = neighbors[np.where(neighbors_status == HEALTH)[0]]\n",
    "            spreaded_neighbors = healthy_neighbors[np.where(np.random.uniform(0,1,(healthy_neighbors.shape[0],)) \n",
    "                                      < p1)[0]]\n",
    "            if spreaded_neighbors.size!=0:    # if information has spread to the neighbors of the transmission node\n",
    "                self.transmission_list.remove(nt)\n",
    "                self.immmune_list.append(nt)\n",
    "                g.node[nt]['status'] = IMMUNE\n",
    "                for sn in spreaded_neighbors:\n",
    "                    self.healthy_list.remove(sn)\n",
    "                    self.transmission_list.append(sn)\n",
    "                    g.node[sn]['status'] = TRANSMISSION\n",
    "              \n",
    "            \n",
    "    def changing_immune(self, im_to_be_changed_to_trans): \n",
    "        # transform the recorded immune nodes' status\n",
    "        g = self.graph\n",
    "        for ni in im_to_be_changed_to_trans:\n",
    "            g.node[ni]['status'] = TRANSMISSION\n",
    "            self.immmune_list.remove(ni)\n",
    "            self.transmission_list.append(ni)\n",
    "    \n",
    "    \n",
    "    def one_step(self, p1):\n",
    "        g = self.graph\n",
    "        # Conflicts Resolving Strategy:\n",
    "        # first record the immune nodes that would change to be transmission,\n",
    "        # but not actually change the status\n",
    "        im_to_be_changed_to_trans = self.recording_changing_immune()\n",
    "        self.changing_transmission_and_healthy(p1)\n",
    "        self.changing_immune(im_to_be_changed_to_trans)\n",
    "        return (len(self.healthy_list), len(self.transmission_list), len(self.immmune_list))\n",
    "    \n",
    "    def iteration(self, n = 100, p1 = 0.5):\n",
    "        # using the counting list to record the nodes' number in every iteration\n",
    "        cnt_list=[(len(self.healthy_list), \n",
    "                   len(self.transmission_list), \n",
    "                   len(self.immmune_list))]\n",
    "        for i in range(n - 1):\n",
    "            cnt_list.append(self.one_step(p1))\n",
    "        return cnt_list\n"
   ]
  },
  {
   "cell_type": "code",
   "execution_count": 3,
   "metadata": {},
   "outputs": [],
   "source": [
    "def plot_simulation(graph, iteration_num = 50):\n",
    "    x=list(range(0,iteration_num))\n",
    "    records=np.array(graph.iteration(n = iteration_num))\n",
    "    plt.plot(x, records[:,0].tolist(),label=\"healthy\")\n",
    "    plt.plot(x, records[:,1].tolist(),label=\"transmission\")\n",
    "    plt.plot(x, records[:,2].tolist(),label=\"immmune\")\n",
    "    plt.legend()\n",
    "    plt.title(\"Simulation of {} Network\".format(graph.name))\n",
    "    return records"
   ]
  },
  {
   "cell_type": "markdown",
   "metadata": {},
   "source": [
    "### Simulation with the random Barabási Albert network"
   ]
  },
  {
   "cell_type": "markdown",
   "metadata": {},
   "source": [
    "**Exercise 2:**  Use the above model, to simulate the results on a random Barabási Albert network. Comment on the state changes that you observe."
   ]
  },
  {
   "cell_type": "code",
   "execution_count": 4,
   "metadata": {},
   "outputs": [
    {
     "data": {
      "image/png": "[encoded data removed]",
      "text/plain": [
       "<matplotlib.figure.Figure at 0x113da8b38>"
      ]
     },
     "metadata": {
      "needs_background": "light"
     },
     "output_type": "display_data"
    }
   ],
   "source": [
    "# Barabási Albert network\n",
    "RealRecords = plot_simulation(social_network(name =\"ba\",alpha=0.1,beta=0.3), iteration_num = 100)"
   ]
  }
 ],
 "metadata": {
  "kernelspec": {
   "display_name": "Python 3",
   "language": "python",
   "name": "python3"
  },
  "language_info": {
   "codemirror_mode": {
    "name": "ipython",
    "version": 3
   },
   "file_extension": ".py",
   "mimetype": "text/x-python",
   "name": "python",
   "nbconvert_exporter": "python",
   "pygments_lexer": "ipython3",
   "version": "3.6.5"
  }
 },
 "nbformat": 4,
 "nbformat_minor": 2
}
