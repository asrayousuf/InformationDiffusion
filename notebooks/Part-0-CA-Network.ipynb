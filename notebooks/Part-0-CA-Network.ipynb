{
 "cells": [
  {
   "cell_type": "markdown",
   "metadata": {},
   "source": [
    "### Part 0: Cellular Automata Model On Network Structure\n"
   ]
  },
  {
   "cell_type": "markdown",
   "metadata": {},
   "source": [
    "Cellular automata(CA) is discrete dynamical system in space and time consisting of a set of scattered cellular in analog space. Every state in the time sequence of cellular in every moment, is synchronize updated by cells around on the last time via same effect rules (local rules). In this project, we consider to combine the CA system rules with networkx structure to simulate the information spread trend in a real social work."
   ]
  },
  {
   "cell_type": "markdown",
   "metadata": {},
   "source": [
    "## The information spread in the network to be modeled and simulated\n",
    "In the information diffusion process in social networks, cell of cellular automata can be assumed to be a individual member of the network (node), and cellular space can be assumed as the entire network. Cellular state parameters can be described as the individual characteristic parameters of a member state, cellular automata neighbors represents the range of individual members interaction.\n",
    "\n",
    "Exercise: develop a SIR based information transmission model as following:\n",
    "\n",
    "Grid/ node structure: a random Barabasi_Albert social network connection\n",
    "\n",
    "State and information spread rules of each node:\n",
    "\n",
    "Health node (S): Users who have not received the piece of information and can  readily transfer the information.\n",
    "\n",
    "Transmission node (I): Users who have received the information and transfer it to others. The transmission probability $p_1=0.5$. If a transmission node has already spread the information, then it would become an immune node which means the probability of this node changing to an immune node is 1.\n",
    "\n",
    "Immune node (R): Users who will not spread information to others, but may become a transmission node if it is repeatedly contacted by other transmission nodes. The probability $p_2$ that the immune node becomes a transmission node  depends on its neighbors  ($p_2$= the total number of transmission neighbor nodes/ the total number of neighbors). \n"
   ]
  },
  {
   "cell_type": "code",
   "execution_count": 5,
   "metadata": {},
   "outputs": [],
   "source": [
    "import networkx as nx\n",
    "import matplotlib.pyplot as plt\n",
    "import numpy as np\n",
    "import copy"
   ]
  },
  {
   "cell_type": "code",
   "execution_count": 11,
   "metadata": {},
   "outputs": [],
   "source": [
    "# States\n",
    "HEALTH = 0\n",
    "TRANSMISSION = 1\n",
    "IMMUNE = 2 # immune & inactive\n",
    "\n",
    "class social_network():\n",
    "    def __init__(self,  alpha=0.1,beta=0.3, n = 4039,name = \"ws\",k = 57, p=0.5,m = 6):\n",
    "        # Generation of random graphs\n",
    "        if name == \"ws\":# Watts–Strogatz Graph\n",
    "            self.name = \"Watts–Strogatz\"\n",
    "            self.graph = nx.watts_strogatz_graph(n, k = 57, p=0.5)\n",
    "        elif name == \"ba\":# Barabási–Albert Graph\n",
    "            self.name = \"Barabási–Albert\"\n",
    "            self.graph = nx.barabasi_albert_graph(n, m = 6)\n",
    "        elif name == \"real\": # The social network data from facebook\n",
    "            self.name = \"Facebook\"\n",
    "            self.graph,n = self.read_graph(filename = \"../data/facebook_combined.txt\")\n",
    "            \n",
    "        init_dist=np.random.choice([TRANSMISSION,IMMUNE,HEALTH],\n",
    "                         size = n,p=(alpha,beta,1-alpha-beta))\n",
    "        # list of nodes group by status\n",
    "        self.healthy_list = np.where(init_dist==HEALTH)[0].tolist()\n",
    "        self.transmission_list = np.where(init_dist==TRANSMISSION)[0].tolist()\n",
    "        self.immmune_list = np.where(init_dist==IMMUNE)[0].tolist()\n",
    "        for i in range(0,n):\n",
    "            self.graph.node[i]['status'] = init_dist[i]\n",
    "    \n",
    "    def read_graph(self,filename):\n",
    "        # reading real social network data into a Graph object\n",
    "        G = nx.Graph()\n",
    "        lines = [line.rstrip('\\n') for line in open(filename, 'r')] \n",
    "        edge_list=list(map(lambda edge: [int(edge.split()[0]), int(edge.split()[1])], lines))\n",
    "        G.add_edges_from(edge_list)\n",
    "        n = G.number_of_nodes()\n",
    "        return G,n\n",
    "            \n",
    "            \n",
    "    def recording_changing_immune(self):\n",
    "        # recording the immune node that will be changed to transmission node\n",
    "        \n",
    "        g = self.graph\n",
    "        im_to_be_changed_to_trans = []\n",
    "        for ni in self.immmune_list:\n",
    "            immune_neighbors = np.array(g.neighbors(ni))\n",
    "            immune_neighbors_status = np.array([g.node[nei]['status'] \n",
    "                                                for nei in g.neighbors(ni)])\n",
    "            # computing the probability for one immune node becoming transmission node\n",
    "            p2 = len(immune_neighbors[np.where(\n",
    "                immune_neighbors_status == TRANSMISSION)[0]]) / len(immune_neighbors)\n",
    "            if np.random.uniform(0,1) < p2*0.1:\n",
    "                im_to_be_changed_to_trans.append(ni)\n",
    "        \n",
    "        return im_to_be_changed_to_trans\n",
    "    \n",
    "    \n",
    "    def changing_transmission_and_healthy(self, p1):\n",
    "        # finish the (transmission ==> immune) & (healthy ==> transmission)\n",
    "        # p1: the probability for transmission node affecting its neighbors\n",
    "        g = self.graph\n",
    "        for nt in self.transmission_list:\n",
    "            neighbors = np.array(g.neighbors(nt))\n",
    "            neighbors_status = np.array([g.node[nei]['status'] \n",
    "                                         for nei in g.neighbors(nt)])\n",
    "            healthy_neighbors = neighbors[np.where(neighbors_status == HEALTH)[0]]\n",
    "            spreaded_neighbors = healthy_neighbors[np.where(np.random.uniform(0,1,(healthy_neighbors.shape[0],)) \n",
    "                                      < p1)[0]]\n",
    "            if spreaded_neighbors.size!=0:    # if information has spread to the neighbors of the transmission node\n",
    "                self.transmission_list.remove(nt)\n",
    "                self.immmune_list.append(nt)\n",
    "                g.node[nt]['status'] = IMMUNE\n",
    "                for sn in spreaded_neighbors:\n",
    "                    self.healthy_list.remove(sn)\n",
    "                    self.transmission_list.append(sn)\n",
    "                    g.node[sn]['status'] = TRANSMISSION\n",
    "              \n",
    "            \n",
    "    def changing_immune(self, im_to_be_changed_to_trans): \n",
    "        # transform the recorded immune nodes' status\n",
    "        g = self.graph\n",
    "        for ni in im_to_be_changed_to_trans:\n",
    "            g.node[ni]['status'] = TRANSMISSION\n",
    "            self.immmune_list.remove(ni)\n",
    "            self.transmission_list.append(ni)\n",
    "    \n",
    "    \n",
    "    def one_step(self, p1):\n",
    "        g = self.graph\n",
    "        # Conflicts Resolving Strategy:\n",
    "        # first record the immune nodes that would change to be transmission,\n",
    "        # but not actually change the status\n",
    "        im_to_be_changed_to_trans = self.recording_changing_immune()\n",
    "        self.changing_transmission_and_healthy(p1)\n",
    "        self.changing_immune(im_to_be_changed_to_trans)\n",
    "        return (len(self.healthy_list), len(self.transmission_list), len(self.immmune_list))\n",
    "    \n",
    "    def iteration(self, n = 100, p1 = 0.5):\n",
    "        # using the counting list to record the nodes' number in every iteration\n",
    "        cnt_list=[(len(self.healthy_list), \n",
    "                   len(self.transmission_list), \n",
    "                   len(self.immmune_list))]\n",
    "        for i in range(n - 1):\n",
    "            cnt_list.append(self.one_step(p1))\n",
    "        return cnt_list\n"
   ]
  },
  {
   "cell_type": "code",
   "execution_count": 7,
   "metadata": {},
   "outputs": [],
   "source": [
    "def plot_simulation(graph, iteration_num = 50):\n",
    "    x=list(range(0,iteration_num))\n",
    "    records=np.array(graph.iteration(n = iteration_num))\n",
    "    plt.plot(x, records[:,0].tolist(),label=\"healthy\")\n",
    "    plt.plot(x, records[:,1].tolist(),label=\"transmission\")\n",
    "    plt.plot(x, records[:,2].tolist(),label=\"immmune\")\n",
    "    plt.legend()\n",
    "    plt.title(\"Simulation of {} Network\".format(graph.name))\n",
    "    return records"
   ]
  },
  {
   "cell_type": "markdown",
   "metadata": {},
   "source": [
    "### Simulation with the random Barabási Albert network"
   ]
  },
  {
   "cell_type": "code",
   "execution_count": 13,
   "metadata": {},
   "outputs": [
    {
     "data": {
      "image/png": "[encoded data removed]",
      "text/plain": [
       "<matplotlib.figure.Figure at 0x10c207a90>"
      ]
     },
     "metadata": {
      "needs_background": "light"
     },
     "output_type": "display_data"
    }
   ],
   "source": [
    "# Barabási Albert network\n",
    "RealRecords = plot_simulation(social_network(name =\"ba\",alpha=0.1,beta=0.3), iteration_num = 100)"
   ]
  }
 ],
 "metadata": {
  "kernelspec": {
   "display_name": "Python 3",
   "language": "python",
   "name": "python3"
  },
  "language_info": {
   "codemirror_mode": {
    "name": "ipython",
    "version": 3
   },
   "file_extension": ".py",
   "mimetype": "text/x-python",
   "name": "python",
   "nbconvert_exporter": "python",
   "pygments_lexer": "ipython3",
   "version": "3.6.5"
  }
 },
 "nbformat": 4,
 "nbformat_minor": 2
}
