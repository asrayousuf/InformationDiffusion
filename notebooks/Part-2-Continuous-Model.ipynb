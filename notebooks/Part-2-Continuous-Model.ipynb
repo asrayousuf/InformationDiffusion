{
 "cells": [
  {
   "cell_type": "code",
   "execution_count": 101,
   "metadata": {},
   "outputs": [
    {
     "data": {
      "image/png": "[encoded data removed]",
      "text/plain": [
       "<Figure size 432x288 with 1 Axes>"
      ]
     },
     "metadata": {
      "needs_background": "light"
     },
     "output_type": "display_data"
    }
   ],
   "source": [
    "import pylab\n",
    "import numpy\n",
    "a=0.45\n",
    "b=0.3\n",
    "k=0.26\n",
    "r=(a-b)/k\n",
    "Dt=0.01\n",
    "p1=0.08\n",
    "p2=0.55\n",
    "\n",
    "def initialize():\n",
    "    global S, I, N, Sresult, Iresult, Nresult, t, timesteps\n",
    "    S=2400/10000\n",
    "    Sresult=[S]\n",
    "    I=400/10000\n",
    "    Iresult=[I]\n",
    "    N=4039/10000\n",
    "    Nresult=[N]\n",
    "    t=0.\n",
    "    timesteps=[t]\n",
    "    \n",
    "def observe():\n",
    "    global S, I, N, Sresult, Iresult, Nresult, t, timesteps\n",
    "    Sresult.append(S)\n",
    "    Iresult.append(I)\n",
    "    Nresult.append(N)\n",
    "    timesteps.append(t)\n",
    "    \n",
    "def update():\n",
    "    global S, I, N, Sresult, Iresult, Nresult, t, timesteps\n",
    "    nextS=S+((a-b)*S-r*S*N-p1*S*I)*Dt\n",
    "    nextI=I+(p2*(N-S-I)-(b+r*N)*I)*Dt\n",
    "    nextN=N+(a*S-(b+r*N)*N)*Dt\n",
    "    nextt=t+Dt\n",
    "    S, I, N, t=nextS, nextI, nextN, nextt\n",
    "    \n",
    "initialize()\n",
    "while t<50.:\n",
    "    update()\n",
    "    observe()\n",
    "    \n",
    "plot(timesteps, Sresult, 'b--')#blue dash\n",
    "plot(timesteps, Iresult, 'g--')#green dash\n",
    "plot(timesteps, Nresult, 'r-')#red solid\n",
    "show()\n"
   ]
  },
  {
   "cell_type": "code",
   "execution_count": null,
   "metadata": {},
   "outputs": [],
   "source": []
  },
  {
   "cell_type": "code",
   "execution_count": null,
   "metadata": {},
   "outputs": [],
   "source": []
  }
 ],
 "metadata": {
  "celltoolbar": "Tags",
  "kernelspec": {
   "display_name": "Python 3",
   "language": "python",
   "name": "python3"
  },
  "language_info": {
   "codemirror_mode": {
    "name": "ipython",
    "version": 3
   },
   "file_extension": ".py",
   "mimetype": "text/x-python",
   "name": "python",
   "nbconvert_exporter": "python",
   "pygments_lexer": "ipython3",
   "version": "3.7.1"
  }
 },
 "nbformat": 4,
 "nbformat_minor": 2
}
